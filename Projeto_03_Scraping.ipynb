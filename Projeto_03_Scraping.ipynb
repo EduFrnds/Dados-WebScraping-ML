{
  "nbformat": 4,
  "nbformat_minor": 0,
  "metadata": {
    "colab": {
      "name": "Projeto 03 - Scraping.ipynb",
      "provenance": [],
      "collapsed_sections": [
        "v9i2D6PSmxr1",
        "2IPaIdtwm6Oz"
      ]
    },
    "kernelspec": {
      "name": "python3",
      "display_name": "Python 3"
    },
    "language_info": {
      "name": "python"
    }
  },
  "cells": [
    {
      "cell_type": "markdown",
      "source": [
        "# 0.0 - Import Bibliotecas"
      ],
      "metadata": {
        "id": "v9i2D6PSmxr1"
      }
    },
    {
      "cell_type": "code",
      "execution_count": 1,
      "metadata": {
        "id": "x89xi8WpjhJ6"
      },
      "outputs": [],
      "source": [
        "# Request lib para https\n",
        "import requests\n",
        "\n",
        "# BS para scraping de HMTL\n",
        "from bs4 import BeautifulSoup\n",
        "\n",
        "# Lib para modelagem de dados\n",
        "import pandas as pd"
      ]
    },
    {
      "cell_type": "markdown",
      "source": [
        "# 1.0 - WEB SCRAPING"
      ],
      "metadata": {
        "id": "2IPaIdtwm6Oz"
      }
    },
    {
      "cell_type": "code",
      "source": [
        "# Carregamento da Pagina\n",
        "\n",
        "# Link do Site\n",
        "Site = 'http://www.ssp.sp.gov.br/Estatistica/ViolenciaMulher.aspx'\n",
        "\n",
        "# Carregando\n",
        "Pagina = requests.get( Site )"
      ],
      "metadata": {
        "id": "QSV3wwu1m_9t"
      },
      "execution_count": 2,
      "outputs": []
    },
    {
      "cell_type": "code",
      "source": [
        "# Coleanto as infos da pagina\n",
        "Coleta = BeautifulSoup( Pagina.text, 'html.parser')"
      ],
      "metadata": {
        "id": "5Q8IcoGMnBih"
      },
      "execution_count": 3,
      "outputs": []
    },
    {
      "cell_type": "code",
      "source": [
        "# Acessando titulo\n",
        "print( Coleta.title )\n",
        "\n",
        "# Acessar nome dentro das Tags\n",
        "print( Coleta.title.string )\n",
        "\n",
        "# Extrair o nome da TAG\n",
        "print( Coleta.title.name )"
      ],
      "metadata": {
        "id": "Q3UXMU1SnEyy"
      },
      "execution_count": null,
      "outputs": []
    },
    {
      "cell_type": "code",
      "source": [
        "# Demo para pegar algumas informações\n",
        "\n",
        "# Coletando a tag\n",
        "print( Coleta.a , '\\n')\n",
        "\n",
        "# Coletando o link dentro da Tag\n",
        "print( Coleta.a.get('href') )"
      ],
      "metadata": {
        "colab": {
          "base_uri": "https://localhost:8080/"
        },
        "id": "9kjMclP9nGdC",
        "outputId": "0576f7fe-b5d8-4606-da9f-86533ab37a45"
      },
      "execution_count": 6,
      "outputs": [
        {
          "output_type": "stream",
          "name": "stdout",
          "text": [
            "<a href=\"http://www.saopaulo.sp.gov.br/\" target=\"_blank\">Portal do Governo</a> \n",
            "\n",
            "http://www.saopaulo.sp.gov.br/\n"
          ]
        }
      ]
    },
    {
      "cell_type": "code",
      "source": [
        "# Minerando páginas\n",
        "\n",
        "# Loop para extrair os links\n",
        "for Loop in Coleta.find_all('a'):\n",
        "\n",
        "  # Pegando o link da Tag\n",
        "  link = Loop.get('href')\n",
        " \n",
        "  if 'http://' in str(link) :\n",
        "    print(link)\n",
        "\n",
        "  else:\n",
        "    pass"
      ],
      "metadata": {
        "id": "-6wyYCnWnS-Z"
      },
      "execution_count": null,
      "outputs": []
    },
    {
      "cell_type": "code",
      "source": [
        "# Minerando infos\n",
        "\n",
        "Coleta.find( id='conteudo_repPeriodo_lblPeriodo_2' ).get_text().split()[-3:]"
      ],
      "metadata": {
        "colab": {
          "base_uri": "https://localhost:8080/"
        },
        "id": "jq9wxNxTndJp",
        "outputId": "823ebdfe-f0e0-420d-b168-c8866b39097e"
      },
      "execution_count": 9,
      "outputs": [
        {
          "output_type": "execute_result",
          "data": {
            "text/plain": [
              "['Dezembro', 'de', '2021']"
            ]
          },
          "metadata": {},
          "execution_count": 9
        }
      ]
    },
    {
      "cell_type": "code",
      "source": [
        "# Busca de todas as tabelas\n",
        "\n",
        "Tabelas = Coleta.find_all('table', attrs={'class':'table table-striped table-hover table-condensed'} )\n",
        "\n",
        "# Retorno total de tabelas localizadas\n",
        "\n",
        "print( 'Total de Tabelas Localizadas:', len(Tabelas) )"
      ],
      "metadata": {
        "colab": {
          "base_uri": "https://localhost:8080/"
        },
        "id": "_2491Ebjn2LI",
        "outputId": "f207d39f-9a86-409e-ea0f-958cf06e32a7"
      },
      "execution_count": 10,
      "outputs": [
        {
          "output_type": "stream",
          "name": "stdout",
          "text": [
            "Total de Tabelas Localizadas: 124\n"
          ]
        }
      ]
    },
    {
      "cell_type": "code",
      "source": [
        "# Listas para salvar os dados\n",
        "Rotulos = []\n",
        "Dados = []\n",
        "Periodos = []\n",
        "\n",
        "# Função para criar uma Data\n",
        "import datetime\n",
        "from dateutil.relativedelta import relativedelta\n",
        "\n",
        "# Ultima data publicada pelo estado\n",
        "Registro_Inicial = datetime.datetime(2021, 12, 1)\n",
        "\n",
        "# Variavel de Apoio\n",
        "Loop = 0\n",
        "\n",
        "# Loop\n",
        "for Consulta in Tabelas:\n",
        "\n",
        "  # Linhas\n",
        "  Linha = Consulta.find_all('tr')[2]\n",
        "\n",
        "  # Rotulo da Tabela\n",
        "  Rotulo = Linha.find_all('td')[0].text\n",
        "\n",
        "  # Valor da tabela\n",
        "  Informacao = Linha.find_all('span')[0].text\n",
        "\n",
        "  # Periodo do loop\n",
        "  Data = Registro_Inicial - relativedelta( months=Loop )\n",
        "\n",
        "  # Condição para verificar se é Feminicído\n",
        "  # Loop para coletar rótulos \"FEMINICÍDIO\"\n",
        "  \n",
        "  if Rotulo == 'FEMINICÍDIO':\n",
        "    Dados.append( Informacao )\n",
        "    Rotulos.append( Rotulo )\n",
        "    Periodos.append( Data )\n",
        "\n",
        "  # Caso contrario, passa\n",
        "  else:\n",
        "    pass\n",
        "\n",
        "  Loop += 1"
      ],
      "metadata": {
        "id": "_O9TnJ-Bn8jZ"
      },
      "execution_count": 11,
      "outputs": []
    },
    {
      "cell_type": "code",
      "source": [
        "# Organizar essas info Dicionairo\n",
        "Dicionario = {\n",
        "    'Rotulo' : Rotulos,\n",
        "    'Quantidade' : Dados,\n",
        "    'Periodo' : Periodos\n",
        "}\n",
        "\n",
        "# Criar o DataFame\n",
        "Base_Dados = pd.DataFrame( Dicionario )\n",
        "\n",
        "# Exportar os dados para Excel\n",
        "# Base_Dados.to_excel('Base_Dados - Feminicidio.xlsx', index=False )\n",
        "\n",
        "Base_Dados.shape"
      ],
      "metadata": {
        "colab": {
          "base_uri": "https://localhost:8080/"
        },
        "id": "lvu0lHqQo5Er",
        "outputId": "fdc7dd30-ed95-4748-b377-76ee43c0a681"
      },
      "execution_count": 12,
      "outputs": [
        {
          "output_type": "execute_result",
          "data": {
            "text/plain": [
              "(48, 3)"
            ]
          },
          "metadata": {},
          "execution_count": 12
        }
      ]
    },
    {
      "cell_type": "code",
      "source": [
        "# Salvando a base_dados\n",
        "Base_Dados.to_csv('Base_dados.csv')"
      ],
      "metadata": {
        "id": "a67dGzkoo5hZ"
      },
      "execution_count": 14,
      "outputs": []
    }
  ]
}