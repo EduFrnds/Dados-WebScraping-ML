{
  "nbformat": 4,
  "nbformat_minor": 0,
  "metadata": {
    "colab": {
      "name": "Projeto 03 - Scraping.ipynb",
      "provenance": [],
      "collapsed_sections": [
        "v9i2D6PSmxr1",
        "2IPaIdtwm6Oz"
      ]
    },
    "kernelspec": {
      "name": "python3",
      "display_name": "Python 3"
    },
    "language_info": {
      "name": "python"
    }
  },
  "cells": [
    {
      "cell_type": "markdown",
      "source": [
        "# 0.0 - Import Bibliotecas"
      ],
      "metadata": {
        "id": "v9i2D6PSmxr1"
      }
    },
    {
      "cell_type": "code",
      "execution_count": null,
      "metadata": {
        "id": "x89xi8WpjhJ6"
      },
      "outputs": [],
      "source": [
        "# Request lib para https\n",
        "import requests\n",
        "\n",
        "# BS para scraping de HMTL\n",
        "from bs4 import BeautifulSoup\n",
        "\n",
        "# Lib para modelagem de dados\n",
        "import pandas as pd"
      ]
    },
    {
      "cell_type": "markdown",
      "source": [
        "# 1.0 - WEB SCRAPING"
      ],
      "metadata": {
        "id": "2IPaIdtwm6Oz"
      }
    },
    {
      "cell_type": "code",
      "source": [
        "# Carregamento da Pagina\n",
        "\n",
        "# Link do Site\n",
        "site = 'http://www.ssp.sp.gov.br/Estatistica/ViolenciaMulher.aspx'\n",
        "\n",
        "# Carregando\n",
        "pagina = requests.get( Site )"
      ],
      "metadata": {
        "id": "QSV3wwu1m_9t"
      },
      "execution_count": null,
      "outputs": []
    },
    {
      "cell_type": "code",
      "source": [
        "# Coleanto as infos da pagina\n",
        "coleta = BeautifulSoup( Pagina.text, 'html.parser')"
      ],
      "metadata": {
        "id": "5Q8IcoGMnBih"
      },
      "execution_count": null,
      "outputs": []
    },
    {
      "cell_type": "code",
      "source": [
        "# Acessando titulo\n",
        "print( coleta.title )\n",
        "\n",
        "# Acessar nome dentro das Tags\n",
        "print( coleta.title.string )\n",
        "\n",
        "# Extrair o nome da TAG\n",
        "print( coleta.title.name )"
      ],
      "metadata": {
        "id": "Q3UXMU1SnEyy"
      },
      "execution_count": null,
      "outputs": []
    },
    {
      "cell_type": "code",
      "source": [
        "# Demo para pegar algumas informações\n",
        "\n",
        "# Coletando a tag\n",
        "print( coleta.a , '\\n')\n",
        "\n",
        "# Coletando o link dentro da Tag\n",
        "print( coleta.a.get('href') )"
      ],
      "metadata": {
        "colab": {
          "base_uri": "https://localhost:8080/"
        },
        "id": "9kjMclP9nGdC",
        "outputId": "0576f7fe-b5d8-4606-da9f-86533ab37a45"
      },
      "execution_count": null,
      "outputs": [
        {
          "output_type": "stream",
          "name": "stdout",
          "text": [
            "<a href=\"http://www.saopaulo.sp.gov.br/\" target=\"_blank\">Portal do Governo</a> \n",
            "\n",
            "http://www.saopaulo.sp.gov.br/\n"
          ]
        }
      ]
    },
    {
      "cell_type": "code",
      "source": [
        "# Minerando páginas\n",
        "\n",
        "for Loop in coleta.find_all('a'):\n",
        "\n",
        "  link = Loop.get('href')\n",
        " \n",
        "  if 'http://' in str(link) :\n",
        "    print(link)\n",
        "\n",
        "  else:\n",
        "    pass"
      ],
      "metadata": {
        "id": "-6wyYCnWnS-Z"
      },
      "execution_count": null,
      "outputs": []
    },
    {
      "cell_type": "code",
      "source": [
        "# Minerando infos\n",
        "\n",
        "coleta.find( id='conteudo_repPeriodo_lblPeriodo_2' ).get_text().split()[-3:]"
      ],
      "metadata": {
        "colab": {
          "base_uri": "https://localhost:8080/"
        },
        "id": "jq9wxNxTndJp",
        "outputId": "823ebdfe-f0e0-420d-b168-c8866b39097e"
      },
      "execution_count": null,
      "outputs": [
        {
          "output_type": "execute_result",
          "data": {
            "text/plain": [
              "['Dezembro', 'de', '2021']"
            ]
          },
          "metadata": {},
          "execution_count": 9
        }
      ]
    },
    {
      "cell_type": "code",
      "source": [
        "# Busca de todas as tabelas\n",
        "\n",
        "tabelas = coleta.find_all('table', attrs={'class':'table table-striped table-hover table-condensed'} )\n",
        "\n",
        "# Retorno total de tabelas localizadas\n",
        "\n",
        "print( 'Total de Tabelas Localizadas:', len(Tabelas) )"
      ],
      "metadata": {
        "colab": {
          "base_uri": "https://localhost:8080/"
        },
        "id": "_2491Ebjn2LI",
        "outputId": "f207d39f-9a86-409e-ea0f-958cf06e32a7"
      },
      "execution_count": null,
      "outputs": [
        {
          "output_type": "stream",
          "name": "stdout",
          "text": [
            "Total de Tabelas Localizadas: 124\n"
          ]
        }
      ]
    },
    {
      "cell_type": "code",
      "source": [
        "# Listas para salvar os dados\n",
        "\n",
        "rotulos = []\n",
        "dados = []\n",
        "periodos = []\n",
        "\n",
        "# Função para criar uma Data\n",
        "import datetime\n",
        "from dateutil.relativedelta import relativedelta\n",
        "\n",
        "# Ultima data publicada pelo estado\n",
        "registro_inicial = datetime.datetime(2021, 12, 1)\n",
        "\n",
        "# Variavel de Apoio\n",
        "loop = 0\n",
        "\n",
        "for consulta in tabelas:\n",
        "\n",
        "  # Linhas\n",
        "  linha = consulta.find_all('tr')[2]\n",
        "\n",
        "  # Rotulo da Tabela\n",
        "  rotulo = linha.find_all('td')[0].text\n",
        "\n",
        "  # Valor da tabela\n",
        "  informacao = linha.find_all('span')[0].text\n",
        "\n",
        "  # Periodo do loop\n",
        "  data = registro_inicial - relativedelta( months=Loop )\n",
        "\n",
        "  # Condição para verificar se é Feminicído\n",
        "\n",
        "  # Loop para coletar rótulos \"FEMINICÍDIO\"\n",
        "    if rotulo == 'FEMINICÍDIO':\n",
        "    dados.append( Informacao )\n",
        "    rotulos.append( Rotulo )\n",
        "    periodos.append( Data )\n",
        "\n",
        "  # Caso contrario, passa\n",
        "  else:\n",
        "    pass\n",
        "\n",
        "  loop += 1"
      ],
      "metadata": {
        "id": "_O9TnJ-Bn8jZ"
      },
      "execution_count": null,
      "outputs": []
    },
    {
      "cell_type": "code",
      "source": [
        "# Organizar essas info Dicionairo\n",
        "dicionario = {\n",
        "    'rotulo' : rotulos,\n",
        "    'quantidade' : dados,\n",
        "    'periodo' : periodos\n",
        "}\n",
        "\n",
        "# Criar o DataFame\n",
        "base_dados = pd.DataFrame( dicionario )\n",
        "\n",
        "# Exportar os dados para Excel\n",
        "# Base_Dados.to_excel('Base_Dados - Feminicidio.xlsx', index=False )\n",
        "\n",
        "base_dados.shape"
      ],
      "metadata": {
        "colab": {
          "base_uri": "https://localhost:8080/"
        },
        "id": "lvu0lHqQo5Er",
        "outputId": "fdc7dd30-ed95-4748-b377-76ee43c0a681"
      },
      "execution_count": null,
      "outputs": [
        {
          "output_type": "execute_result",
          "data": {
            "text/plain": [
              "(48, 3)"
            ]
          },
          "metadata": {},
          "execution_count": 12
        }
      ]
    },
    {
      "cell_type": "code",
      "source": [
        "# Salvando a base_dados\n",
        "base_dados.to_csv('Base_dados.csv')"
      ],
      "metadata": {
        "id": "a67dGzkoo5hZ"
      },
      "execution_count": null,
      "outputs": []
    }
  ]
}